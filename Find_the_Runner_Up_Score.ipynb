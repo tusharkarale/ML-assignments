{
  "nbformat": 4,
  "nbformat_minor": 0,
  "metadata": {
    "colab": {
      "name": "Find_the_Runner_Up_Score.ipynb",
      "version": "0.3.2",
      "provenance": [],
      "include_colab_link": true
    },
    "kernelspec": {
      "name": "python2",
      "display_name": "Python 2"
    }
  },
  "cells": [
    {
      "cell_type": "markdown",
      "metadata": {
        "id": "view-in-github",
        "colab_type": "text"
      },
      "source": [
        "<a href=\"https://colab.research.google.com/github/tusharkarale/colabpython/blob/master/Find_the_Runner_Up_Score.ipynb\" target=\"_parent\"><img src=\"https://colab.research.google.com/assets/colab-badge.svg\" alt=\"Open In Colab\"/></a>"
      ]
    },
    {
      "cell_type": "code",
      "metadata": {
        "id": "3-JLY4yAIZSS",
        "colab_type": "code",
        "colab": {
          "base_uri": "https://localhost:8080/",
          "height": 67
        },
        "outputId": "4dd30078-9b46-4068-a8be-4bada8e50829"
      },
      "source": [
        "if __name__ == '__main__':\n",
        "    n = int(raw_input())\n",
        "    arr = map(int, raw_input().split())\n",
        "\n",
        "f=arr[0]\n",
        "\n",
        "for i in range(0,n):\n",
        "    if f<arr[i]:\n",
        "        f=arr[i]\n",
        "\n",
        "arr.sort()\n",
        "for i in range(0,n):\n",
        "    if(f!=arr[i]):\n",
        "        s=arr[i]\n",
        "\n",
        "print s"
      ],
      "execution_count": 1,
      "outputs": [
        {
          "output_type": "stream",
          "text": [
            "5\n",
            "1 3 6 6 5\n",
            "5\n"
          ],
          "name": "stdout"
        }
      ]
    }
  ]
}